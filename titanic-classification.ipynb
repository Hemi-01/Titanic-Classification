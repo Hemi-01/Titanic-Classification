{
 "cells": [
  {
   "cell_type": "code",
   "execution_count": 1,
   "metadata": {
    "_cell_guid": "79c7e3d0-c299-4dcb-8224-4455121ee9b0",
    "_kg_hide-output": true,
    "_uuid": "d629ff2d2480ee46fbb7e2d37f6b5fab8052498a",
    "execution": {
     "iopub.execute_input": "2020-11-08T18:49:29.713055Z",
     "iopub.status.busy": "2020-11-08T18:49:29.712294Z",
     "iopub.status.idle": "2020-11-08T18:49:31.902789Z",
     "shell.execute_reply": "2020-11-08T18:49:31.901924Z"
    },
    "papermill": {
     "duration": 2.224551,
     "end_time": "2020-11-08T18:49:31.902947",
     "exception": false,
     "start_time": "2020-11-08T18:49:29.678396",
     "status": "completed"
    },
    "tags": []
   },
   "outputs": [],
   "source": [
    "# Base \n",
    "# -----------------------------------\n",
    "import numpy as np\n",
    "import pandas as pd\n",
    "import seaborn as sns\n",
    "import matplotlib.pyplot as plt\n",
    "\n",
    "# Missing Values \n",
    "# -----------------------------------\n",
    "# !pip install missingno\n",
    "import missingno as msno\n",
    "\n",
    "# Models \n",
    "# -----------------------------------\n",
    "from lightgbm import LGBMClassifier\n",
    "from sklearn.ensemble import GradientBoostingClassifier,RandomForestClassifier, BaggingClassifier, AdaBoostClassifier\n",
    "from sklearn.linear_model import LogisticRegression\n",
    "from sklearn.neighbors import KNeighborsClassifier\n",
    "from sklearn.svm import SVC\n",
    "from sklearn.tree import DecisionTreeClassifier\n",
    "from xgboost import XGBClassifier\n",
    "from sklearn.naive_bayes import GaussianNB\n",
    "\n",
    "# Metrics & Evaluation\n",
    "# -----------------------------------\n",
    "from sklearn.model_selection import KFold\n",
    "from sklearn.model_selection import train_test_split, GridSearchCV, cross_val_score\n",
    "from sklearn.metrics import accuracy_score, roc_auc_score, roc_curve, classification_report\n",
    "\n",
    "# Configuration\n",
    "# -----------------------------------\n",
    "import warnings\n",
    "warnings.filterwarnings(\"ignore\")\n",
    "warnings.simplefilter(action='ignore', category=FutureWarning)\n",
    "\n",
    "pd.set_option('display.max_columns', None)\n",
    "pd.options.display.float_format = '{:.4f}'.format"
   ]
  },
  {
   "cell_type": "markdown",
   "metadata": {
    "papermill": {
     "duration": 0.019432,
     "end_time": "2020-11-08T18:49:31.942247",
     "exception": false,
     "start_time": "2020-11-08T18:49:31.922815",
     "status": "completed"
    },
    "tags": []
   },
   "source": [
    "- <code>survival</code> - **Target** (0 = No, 1 = Yes)\n",
    "- <code>pclass</code> - **Ticket class** (1 = 1st, 2 = 2nd, 3 = 3rd)\n",
    "- <code>sex</code> - **Sex**\n",
    "- <code>Age</code> - **Age in years**\n",
    "- <code>sibsp</code> - **# of siblings / spouses aboard the Titanic**\t\n",
    "- <code>parch</code> - **# of parents / children aboard the Titanic**\t\n",
    "- <code>ticket</code> - **Ticket number**\n",
    "- <code>fare</code> - **Passenger fare**\t\n",
    "- <code>cabin</code> - **Cabin number**\n",
    "- <code>embarked</code> - **Port of Embarkation**\t(C = Cherbourg, Q = Queenstown, S = Southampton)"
   ]
  },
  {
   "cell_type": "code",
   "execution_count": 2,
   "metadata": {
    "execution": {
     "iopub.execute_input": "2020-11-08T18:49:31.990249Z",
     "iopub.status.busy": "2020-11-08T18:49:31.989458Z",
     "iopub.status.idle": "2020-11-08T18:49:32.038069Z",
     "shell.execute_reply": "2020-11-08T18:49:32.036997Z"
    },
    "papermill": {
     "duration": 0.076717,
     "end_time": "2020-11-08T18:49:32.038241",
     "exception": false,
     "start_time": "2020-11-08T18:49:31.961524",
     "status": "completed"
    },
    "tags": []
   },
   "outputs": [
    {
     "name": "stdout",
     "output_type": "stream",
     "text": [
      "Object Variables: \n",
      " # of Variables: 5 \n",
      " ['Name', 'Sex', 'Ticket', 'Cabin', 'Embarked'] \n",
      "\n",
      "Float Variables: \n",
      " # of Variables: 3 \n",
      " ['Survived', 'Age', 'Fare'] \n",
      "\n",
      "Integer Variables: \n",
      " # of Variables: 4 \n",
      " ['PassengerId', 'Pclass', 'SibSp', 'Parch'] \n",
      "\n",
      "Bool Variables: \n",
      " # of Variables: 0 \n",
      " [] \n",
      "\n"
     ]
    },
    {
     "data": {
      "text/plain": [
       "((1309, 12), (891, 12), (418, 11))"
      ]
     },
     "execution_count": 2,
     "metadata": {},
     "output_type": "execute_result"
    }
   ],
   "source": [
    "tr = pd.read_csv(\"../input/titanic/train.csv\")\n",
    "ts = pd.read_csv(\"../input/titanic/test.csv\")\n",
    "\n",
    "df = tr.append(ts)\n",
    "\n",
    "\n",
    "for i in [\"object\", \"float\", \"integer\", \"bool\"]:\n",
    "    print(i.capitalize()+\" Variables:\", \"\\n\", \"# of Variables:\", \n",
    "      len(df.select_dtypes(i).columns), \"\\n\", \n",
    "      df.select_dtypes(i).columns.tolist(), \"\\n\")\n",
    "\n",
    "df.shape, tr.shape, ts.shape"
   ]
  },
  {
   "cell_type": "code",
   "execution_count": 3,
   "metadata": {
    "execution": {
     "iopub.execute_input": "2020-11-08T18:49:32.090839Z",
     "iopub.status.busy": "2020-11-08T18:49:32.089766Z",
     "iopub.status.idle": "2020-11-08T18:49:32.101604Z",
     "shell.execute_reply": "2020-11-08T18:49:32.102206Z"
    },
    "papermill": {
     "duration": 0.043353,
     "end_time": "2020-11-08T18:49:32.102371",
     "exception": false,
     "start_time": "2020-11-08T18:49:32.059018",
     "status": "completed"
    },
    "tags": []
   },
   "outputs": [
    {
     "data": {
      "text/html": [
       "<div>\n",
       "<style scoped>\n",
       "    .dataframe tbody tr th:only-of-type {\n",
       "        vertical-align: middle;\n",
       "    }\n",
       "\n",
       "    .dataframe tbody tr th {\n",
       "        vertical-align: top;\n",
       "    }\n",
       "\n",
       "    .dataframe thead th {\n",
       "        text-align: right;\n",
       "    }\n",
       "</style>\n",
       "<table border=\"1\" class=\"dataframe\">\n",
       "  <thead>\n",
       "    <tr style=\"text-align: right;\">\n",
       "      <th></th>\n",
       "      <th>PassengerId</th>\n",
       "      <th>Survived</th>\n",
       "      <th>Pclass</th>\n",
       "      <th>Name</th>\n",
       "      <th>Sex</th>\n",
       "      <th>Age</th>\n",
       "      <th>SibSp</th>\n",
       "      <th>Parch</th>\n",
       "      <th>Ticket</th>\n",
       "      <th>Fare</th>\n",
       "      <th>Cabin</th>\n",
       "      <th>Embarked</th>\n",
       "    </tr>\n",
       "  </thead>\n",
       "  <tbody>\n",
       "    <tr>\n",
       "      <th>0</th>\n",
       "      <td>1</td>\n",
       "      <td>0.0000</td>\n",
       "      <td>3</td>\n",
       "      <td>Braund, Mr. Owen Harris</td>\n",
       "      <td>male</td>\n",
       "      <td>22.0000</td>\n",
       "      <td>1</td>\n",
       "      <td>0</td>\n",
       "      <td>A/5 21171</td>\n",
       "      <td>7.2500</td>\n",
       "      <td>NaN</td>\n",
       "      <td>S</td>\n",
       "    </tr>\n",
       "    <tr>\n",
       "      <th>1</th>\n",
       "      <td>2</td>\n",
       "      <td>1.0000</td>\n",
       "      <td>1</td>\n",
       "      <td>Cumings, Mrs. John Bradley (Florence Briggs Th...</td>\n",
       "      <td>female</td>\n",
       "      <td>38.0000</td>\n",
       "      <td>1</td>\n",
       "      <td>0</td>\n",
       "      <td>PC 17599</td>\n",
       "      <td>71.2833</td>\n",
       "      <td>C85</td>\n",
       "      <td>C</td>\n",
       "    </tr>\n",
       "    <tr>\n",
       "      <th>2</th>\n",
       "      <td>3</td>\n",
       "      <td>1.0000</td>\n",
       "      <td>3</td>\n",
       "      <td>Heikkinen, Miss. Laina</td>\n",
       "      <td>female</td>\n",
       "      <td>26.0000</td>\n",
       "      <td>0</td>\n",
       "      <td>0</td>\n",
       "      <td>STON/O2. 3101282</td>\n",
       "      <td>7.9250</td>\n",
       "      <td>NaN</td>\n",
       "      <td>S</td>\n",
       "    </tr>\n",
       "    <tr>\n",
       "      <th>3</th>\n",
       "      <td>4</td>\n",
       "      <td>1.0000</td>\n",
       "      <td>1</td>\n",
       "      <td>Futrelle, Mrs. Jacques Heath (Lily May Peel)</td>\n",
       "      <td>female</td>\n",
       "      <td>35.0000</td>\n",
       "      <td>1</td>\n",
       "      <td>0</td>\n",
       "      <td>113803</td>\n",
       "      <td>53.1000</td>\n",
       "      <td>C123</td>\n",
       "      <td>S</td>\n",
       "    </tr>\n",
       "    <tr>\n",
       "      <th>4</th>\n",
       "      <td>5</td>\n",
       "      <td>0.0000</td>\n",
       "      <td>3</td>\n",
       "      <td>Allen, Mr. William Henry</td>\n",
       "      <td>male</td>\n",
       "      <td>35.0000</td>\n",
       "      <td>0</td>\n",
       "      <td>0</td>\n",
       "      <td>373450</td>\n",
       "      <td>8.0500</td>\n",
       "      <td>NaN</td>\n",
       "      <td>S</td>\n",
       "    </tr>\n",
       "  </tbody>\n",
       "</table>\n",
       "</div>"
      ],
      "text/plain": [
       "   PassengerId  Survived  Pclass  \\\n",
       "0            1    0.0000       3   \n",
       "1            2    1.0000       1   \n",
       "2            3    1.0000       3   \n",
       "3            4    1.0000       1   \n",
       "4            5    0.0000       3   \n",
       "\n",
       "                                                Name     Sex     Age  SibSp  \\\n",
       "0                            Braund, Mr. Owen Harris    male 22.0000      1   \n",
       "1  Cumings, Mrs. John Bradley (Florence Briggs Th...  female 38.0000      1   \n",
       "2                             Heikkinen, Miss. Laina  female 26.0000      0   \n",
       "3       Futrelle, Mrs. Jacques Heath (Lily May Peel)  female 35.0000      1   \n",
       "4                           Allen, Mr. William Henry    male 35.0000      0   \n",
       "\n",
       "   Parch            Ticket    Fare Cabin Embarked  \n",
       "0      0         A/5 21171  7.2500   NaN        S  \n",
       "1      0          PC 17599 71.2833   C85        C  \n",
       "2      0  STON/O2. 3101282  7.9250   NaN        S  \n",
       "3      0            113803 53.1000  C123        S  \n",
       "4      0            373450  8.0500   NaN        S  "
      ]
     },
     "execution_count": 3,
     "metadata": {},
     "output_type": "execute_result"
    }
   ],
   "source": [
    "df.head()"
   ]
  },
  {
   "cell_type": "code",
   "execution_count": 4,
   "metadata": {
    "execution": {
     "iopub.execute_input": "2020-11-08T18:49:32.153920Z",
     "iopub.status.busy": "2020-11-08T18:49:32.153157Z",
     "iopub.status.idle": "2020-11-08T18:49:32.185382Z",
     "shell.execute_reply": "2020-11-08T18:49:32.184614Z"
    },
    "papermill": {
     "duration": 0.061767,
     "end_time": "2020-11-08T18:49:32.185508",
     "exception": false,
     "start_time": "2020-11-08T18:49:32.123741",
     "status": "completed"
    },
    "tags": []
   },
   "outputs": [
    {
     "data": {
      "text/html": [
       "<div>\n",
       "<style scoped>\n",
       "    .dataframe tbody tr th:only-of-type {\n",
       "        vertical-align: middle;\n",
       "    }\n",
       "\n",
       "    .dataframe tbody tr th {\n",
       "        vertical-align: top;\n",
       "    }\n",
       "\n",
       "    .dataframe thead th {\n",
       "        text-align: right;\n",
       "    }\n",
       "</style>\n",
       "<table border=\"1\" class=\"dataframe\">\n",
       "  <thead>\n",
       "    <tr style=\"text-align: right;\">\n",
       "      <th></th>\n",
       "      <th>count</th>\n",
       "      <th>mean</th>\n",
       "      <th>std</th>\n",
       "      <th>min</th>\n",
       "      <th>1%</th>\n",
       "      <th>5%</th>\n",
       "      <th>10%</th>\n",
       "      <th>50%</th>\n",
       "      <th>80%</th>\n",
       "      <th>90%</th>\n",
       "      <th>95%</th>\n",
       "      <th>99%</th>\n",
       "      <th>max</th>\n",
       "    </tr>\n",
       "  </thead>\n",
       "  <tbody>\n",
       "    <tr>\n",
       "      <th>PassengerId</th>\n",
       "      <td>1309.0000</td>\n",
       "      <td>655.0000</td>\n",
       "      <td>378.0201</td>\n",
       "      <td>1.0000</td>\n",
       "      <td>14.0800</td>\n",
       "      <td>66.4000</td>\n",
       "      <td>131.8000</td>\n",
       "      <td>655.0000</td>\n",
       "      <td>1047.4000</td>\n",
       "      <td>1178.2000</td>\n",
       "      <td>1243.6000</td>\n",
       "      <td>1295.9200</td>\n",
       "      <td>1309.0000</td>\n",
       "    </tr>\n",
       "    <tr>\n",
       "      <th>Survived</th>\n",
       "      <td>891.0000</td>\n",
       "      <td>0.3838</td>\n",
       "      <td>0.4866</td>\n",
       "      <td>0.0000</td>\n",
       "      <td>0.0000</td>\n",
       "      <td>0.0000</td>\n",
       "      <td>0.0000</td>\n",
       "      <td>0.0000</td>\n",
       "      <td>1.0000</td>\n",
       "      <td>1.0000</td>\n",
       "      <td>1.0000</td>\n",
       "      <td>1.0000</td>\n",
       "      <td>1.0000</td>\n",
       "    </tr>\n",
       "    <tr>\n",
       "      <th>Pclass</th>\n",
       "      <td>1309.0000</td>\n",
       "      <td>2.2949</td>\n",
       "      <td>0.8378</td>\n",
       "      <td>1.0000</td>\n",
       "      <td>1.0000</td>\n",
       "      <td>1.0000</td>\n",
       "      <td>1.0000</td>\n",
       "      <td>3.0000</td>\n",
       "      <td>3.0000</td>\n",
       "      <td>3.0000</td>\n",
       "      <td>3.0000</td>\n",
       "      <td>3.0000</td>\n",
       "      <td>3.0000</td>\n",
       "    </tr>\n",
       "    <tr>\n",
       "      <th>Age</th>\n",
       "      <td>1046.0000</td>\n",
       "      <td>29.8811</td>\n",
       "      <td>14.4135</td>\n",
       "      <td>0.1700</td>\n",
       "      <td>0.9200</td>\n",
       "      <td>5.0000</td>\n",
       "      <td>14.0000</td>\n",
       "      <td>28.0000</td>\n",
       "      <td>42.0000</td>\n",
       "      <td>50.0000</td>\n",
       "      <td>57.0000</td>\n",
       "      <td>65.0000</td>\n",
       "      <td>80.0000</td>\n",
       "    </tr>\n",
       "    <tr>\n",
       "      <th>SibSp</th>\n",
       "      <td>1309.0000</td>\n",
       "      <td>0.4989</td>\n",
       "      <td>1.0417</td>\n",
       "      <td>0.0000</td>\n",
       "      <td>0.0000</td>\n",
       "      <td>0.0000</td>\n",
       "      <td>0.0000</td>\n",
       "      <td>0.0000</td>\n",
       "      <td>1.0000</td>\n",
       "      <td>1.0000</td>\n",
       "      <td>2.0000</td>\n",
       "      <td>5.0000</td>\n",
       "      <td>8.0000</td>\n",
       "    </tr>\n",
       "    <tr>\n",
       "      <th>Parch</th>\n",
       "      <td>1309.0000</td>\n",
       "      <td>0.3850</td>\n",
       "      <td>0.8656</td>\n",
       "      <td>0.0000</td>\n",
       "      <td>0.0000</td>\n",
       "      <td>0.0000</td>\n",
       "      <td>0.0000</td>\n",
       "      <td>0.0000</td>\n",
       "      <td>1.0000</td>\n",
       "      <td>2.0000</td>\n",
       "      <td>2.0000</td>\n",
       "      <td>4.0000</td>\n",
       "      <td>9.0000</td>\n",
       "    </tr>\n",
       "    <tr>\n",
       "      <th>Fare</th>\n",
       "      <td>1308.0000</td>\n",
       "      <td>33.2955</td>\n",
       "      <td>51.7587</td>\n",
       "      <td>0.0000</td>\n",
       "      <td>0.0000</td>\n",
       "      <td>7.2250</td>\n",
       "      <td>7.5675</td>\n",
       "      <td>14.4542</td>\n",
       "      <td>41.5792</td>\n",
       "      <td>78.0508</td>\n",
       "      <td>133.6500</td>\n",
       "      <td>262.3750</td>\n",
       "      <td>512.3292</td>\n",
       "    </tr>\n",
       "  </tbody>\n",
       "</table>\n",
       "</div>"
      ],
      "text/plain": [
       "                count     mean      std    min      1%      5%      10%  \\\n",
       "PassengerId 1309.0000 655.0000 378.0201 1.0000 14.0800 66.4000 131.8000   \n",
       "Survived     891.0000   0.3838   0.4866 0.0000  0.0000  0.0000   0.0000   \n",
       "Pclass      1309.0000   2.2949   0.8378 1.0000  1.0000  1.0000   1.0000   \n",
       "Age         1046.0000  29.8811  14.4135 0.1700  0.9200  5.0000  14.0000   \n",
       "SibSp       1309.0000   0.4989   1.0417 0.0000  0.0000  0.0000   0.0000   \n",
       "Parch       1309.0000   0.3850   0.8656 0.0000  0.0000  0.0000   0.0000   \n",
       "Fare        1308.0000  33.2955  51.7587 0.0000  0.0000  7.2250   7.5675   \n",
       "\n",
       "                 50%       80%       90%       95%       99%       max  \n",
       "PassengerId 655.0000 1047.4000 1178.2000 1243.6000 1295.9200 1309.0000  \n",
       "Survived      0.0000    1.0000    1.0000    1.0000    1.0000    1.0000  \n",
       "Pclass        3.0000    3.0000    3.0000    3.0000    3.0000    3.0000  \n",
       "Age          28.0000   42.0000   50.0000   57.0000   65.0000   80.0000  \n",
       "SibSp         0.0000    1.0000    1.0000    2.0000    5.0000    8.0000  \n",
       "Parch         0.0000    1.0000    2.0000    2.0000    4.0000    9.0000  \n",
       "Fare         14.4542   41.5792   78.0508  133.6500  262.3750  512.3292  "
      ]
     },
     "execution_count": 4,
     "metadata": {},
     "output_type": "execute_result"
    }
   ],
   "source": [
    "df.describe([0.01, 0.05, 0.10, 0.80, 0.90, 0.95, 0.99]).T"
   ]
  },
  {
   "cell_type": "code",
   "execution_count": 5,
   "metadata": {
    "execution": {
     "iopub.execute_input": "2020-11-08T18:49:32.241012Z",
     "iopub.status.busy": "2020-11-08T18:49:32.240173Z",
     "iopub.status.idle": "2020-11-08T18:49:32.244868Z",
     "shell.execute_reply": "2020-11-08T18:49:32.244303Z"
    },
    "papermill": {
     "duration": 0.037495,
     "end_time": "2020-11-08T18:49:32.244987",
     "exception": false,
     "start_time": "2020-11-08T18:49:32.207492",
     "status": "completed"
    },
    "tags": []
   },
   "outputs": [
    {
     "name": "stdout",
     "output_type": "stream",
     "text": [
      "0.0000    549\n",
      "1.0000    342\n",
      "Name: Survived, dtype: int64\n",
      "0.0000   0.4194\n",
      "1.0000   0.2613\n",
      "Name: Survived, dtype: float64\n"
     ]
    },
    {
     "data": {
      "text/plain": [
       "(None, None)"
      ]
     },
     "execution_count": 5,
     "metadata": {},
     "output_type": "execute_result"
    }
   ],
   "source": [
    "print(df.Survived.value_counts()), print(df.Survived.value_counts() / df.shape[0])"
   ]
  },
  {
   "cell_type": "code",
   "execution_count": 6,
   "metadata": {
    "execution": {
     "iopub.execute_input": "2020-11-08T18:49:32.297943Z",
     "iopub.status.busy": "2020-11-08T18:49:32.297165Z",
     "iopub.status.idle": "2020-11-08T18:49:32.302557Z",
     "shell.execute_reply": "2020-11-08T18:49:32.301917Z"
    },
    "papermill": {
     "duration": 0.034987,
     "end_time": "2020-11-08T18:49:32.302691",
     "exception": false,
     "start_time": "2020-11-08T18:49:32.267704",
     "status": "completed"
    },
    "tags": []
   },
   "outputs": [
    {
     "data": {
      "text/plain": [
       "True"
      ]
     },
     "execution_count": 6,
     "metadata": {},
     "output_type": "execute_result"
    }
   ],
   "source": [
    "df.isnull().values.any()"
   ]
  },
  {
   "cell_type": "code",
   "execution_count": 7,
   "metadata": {
    "execution": {
     "iopub.execute_input": "2020-11-08T18:49:32.354911Z",
     "iopub.status.busy": "2020-11-08T18:49:32.354074Z",
     "iopub.status.idle": "2020-11-08T18:49:32.744434Z",
     "shell.execute_reply": "2020-11-08T18:49:32.744978Z"
    },
    "papermill": {
     "duration": 0.419033,
     "end_time": "2020-11-08T18:49:32.745141",
     "exception": false,
     "start_time": "2020-11-08T18:49:32.326108",
     "status": "completed"
    },
    "tags": []
   },
   "outputs": [
    {
     "data": {
      "image/png": "[encoded data removed]",
      "text/plain": [
       "<Figure size 1440x864 with 2 Axes>"
      ]
     },
     "metadata": {
      "needs_background": "light"
     },
     "output_type": "display_data"
    }
   ],
   "source": [
    "msno.heatmap(df)\n",
    "plt.show()"
   ]
  },
  {
   "cell_type": "code",
   "execution_count": 8,
   "metadata": {
    "execution": {
     "iopub.execute_input": "2020-11-08T18:49:32.821763Z",
     "iopub.status.busy": "2020-11-08T18:49:32.817093Z",
     "iopub.status.idle": "2020-11-08T18:49:33.032284Z",
     "shell.execute_reply": "2020-11-08T18:49:33.031626Z"
    },
    "papermill": {
     "duration": 0.262062,
     "end_time": "2020-11-08T18:49:33.032404",
     "exception": false,
     "start_time": "2020-11-08T18:49:32.770342",
     "status": "completed"
    },
    "tags": []
   },
   "outputs": [
    {
     "name": "stdout",
     "output_type": "stream",
     "text": [
      "Number of Variables include Missing Values: 4 \n",
      "\n",
      "    Feature  Num_Missing  Missing_Ratio DataTypes\n",
      "0     Cabin         1014         0.7746    object\n",
      "2       Age          263         0.2009   float64\n",
      "3  Embarked            2         0.0015    object\n",
      "4      Fare            1         0.0008   float64 \n",
      "\n"
     ]
    },
    {
     "data": {
      "image/png": "[encoded data removed]",
      "text/plain": [
       "<Figure size 1800x576 with 1 Axes>"
      ]
     },
     "metadata": {
      "needs_background": "light"
     },
     "output_type": "display_data"
    }
   ],
   "source": [
    "def missing_values(data, plot = False, target = \"SalePrice\"):\n",
    "    \n",
    "    mst = pd.DataFrame({\"Num_Missing\":df.isnull().sum(), \"Missing_Ratio\":df.isnull().sum() / df.shape[0]}).sort_values(\"Num_Missing\", ascending = False)\n",
    "    mst[\"DataTypes\"] = df[mst.index].dtypes.values\n",
    "    mst = mst[mst.Num_Missing > 0].reset_index().rename({\"index\":\"Feature\"}, axis = 1)\n",
    "    mst = mst[mst.Feature != target]\n",
    "    \n",
    "    print(\"Number of Variables include Missing Values:\", mst.shape[0], \"\\n\")\n",
    "    \n",
    "    if mst[mst.Missing_Ratio > 0.99].shape[0] > 0:  \n",
    "        print(\"Full Missing Variables:\",mst[mst.Missing_Ratio > 0.99].Feature.tolist())\n",
    "        data.drop(mst[mst.Missing_Ratio > 0.99].Feature.tolist(), axis = 1, inplace = True)\n",
    "\n",
    "        print(\"Full missing variables are deleted!\", \"\\n\")\n",
    "\n",
    "    if plot:\n",
    "        plt.figure(figsize = (25, 8))    \n",
    "        p = sns.barplot(mst.Feature, mst.Missing_Ratio)\n",
    "        for rotate in p.get_xticklabels():\n",
    "            rotate.set_rotation(90)\n",
    "                        \n",
    "    print(mst, \"\\n\")        \n",
    "    \n",
    "missing_values(df, plot = True, target = \"Survived\")"
   ]
  },
  {
   "cell_type": "code",
   "execution_count": 9,
   "metadata": {
    "execution": {
     "iopub.execute_input": "2020-11-08T18:49:33.096766Z",
     "iopub.status.busy": "2020-11-08T18:49:33.095519Z",
     "iopub.status.idle": "2020-11-08T18:49:33.121996Z",
     "shell.execute_reply": "2020-11-08T18:49:33.122919Z"
    },
    "papermill": {
     "duration": 0.064221,
     "end_time": "2020-11-08T18:49:33.123112",
     "exception": false,
     "start_time": "2020-11-08T18:49:33.058891",
     "status": "completed"
    },
    "tags": []
   },
   "outputs": [
    {
     "name": "stdout",
     "output_type": "stream",
     "text": [
      "             TARGET_MEAN\n",
      "Age_NA_FLAG             \n",
      "0                 0.4062\n",
      "1                 0.2938\n",
      "\n",
      "\n",
      "              TARGET_MEAN\n",
      "Fare_NA_FLAG             \n",
      "0                  0.3838\n",
      "1                     nan\n",
      "\n",
      "\n",
      "               TARGET_MEAN\n",
      "Cabin_NA_FLAG             \n",
      "0                   0.6667\n",
      "1                   0.2999\n",
      "\n",
      "\n",
      "                  TARGET_MEAN\n",
      "Embarked_NA_FLAG             \n",
      "0                      0.3825\n",
      "1                      1.0000\n",
      "\n",
      "\n"
     ]
    }
   ],
   "source": [
    "def missing_vs_target(dataframe, target):\n",
    "    temp_df = dataframe.copy()\n",
    "    \n",
    "    variable_with_na = temp_df.drop(target, axis = 1).isnull().sum().reset_index()\n",
    "    variable_with_na = variable_with_na[variable_with_na[0] > 0][\"index\"].tolist()\n",
    "\n",
    "    for variable in variable_with_na:\n",
    "        temp_df[variable + '_NA_FLAG'] = np.where(temp_df[variable].isnull(), 1, 0)\n",
    "\n",
    "    flags_na = temp_df.loc[:, temp_df.columns.str.contains(\"_NA_\")].columns\n",
    "\n",
    "    for variable in flags_na:\n",
    "        print(pd.DataFrame({\"TARGET_MEAN\": temp_df.groupby(variable)[target].mean()}), end=\"\\n\\n\\n\")\n",
    "\n",
    "        \n",
    "missing_vs_target(df, \"Survived\")"
   ]
  },
  {
   "cell_type": "code",
   "execution_count": 10,
   "metadata": {
    "execution": {
     "iopub.execute_input": "2020-11-08T18:49:33.195661Z",
     "iopub.status.busy": "2020-11-08T18:49:33.194843Z",
     "iopub.status.idle": "2020-11-08T18:49:34.118617Z",
     "shell.execute_reply": "2020-11-08T18:49:34.117903Z"
    },
    "papermill": {
     "duration": 0.968023,
     "end_time": "2020-11-08T18:49:34.118749",
     "exception": false,
     "start_time": "2020-11-08T18:49:33.150726",
     "status": "completed"
    },
    "tags": []
   },
   "outputs": [
    {
     "data": {
      "image/png": "[encoded data removed]",
      "text/plain": [
       "<Figure size 1440x288 with 3 Axes>"
      ]
     },
     "metadata": {
      "needs_background": "light"
     },
     "output_type": "display_data"
    },
    {
     "data": {
      "image/png": "[encoded data removed]",
      "text/plain": [
       "<Figure size 1440x288 with 3 Axes>"
      ]
     },
     "metadata": {
      "needs_background": "light"
     },
     "output_type": "display_data"
    }
   ],
   "source": [
    "def num_plot(data, cat_length = 16, remove = [\"Id\"], hist_bins = 12, figsize = (20,4)):\n",
    "    \n",
    "    num_cols = [col for col in data.columns if data[col].dtypes != \"O\" \n",
    "                and len(data[col].unique()) >= cat_length]\n",
    "    \n",
    "    if len(remove) > 0:\n",
    "        num_cols = list(set(num_cols).difference(remove))\n",
    "            \n",
    "    for i in num_cols:\n",
    "        fig, axes = plt.subplots(1, 3, figsize = figsize)\n",
    "        data.hist(str(i), bins = hist_bins, ax=axes[0])\n",
    "        data.boxplot(str(i),  ax=axes[1], vert=False);\n",
    "        try: \n",
    "            sns.kdeplot(np.array(data[str(i)]))\n",
    "        except: ValueError\n",
    "        \n",
    "        axes[1].set_yticklabels([])\n",
    "        axes[1].set_yticks([])\n",
    "        axes[0].set_title(i + \" | Histogram\")\n",
    "        axes[1].set_title(i + \" | Boxplot\")\n",
    "        axes[2].set_title(i + \" | Density\")\n",
    "        plt.show()\n",
    "        \n",
    "        \n",
    "num_plot(df, cat_length = 16, remove = [\"PassengerId\"], hist_bins = 10, figsize = (20,4))"
   ]
  },
  {
   "cell_type": "code",
   "execution_count": 11,
   "metadata": {
    "execution": {
     "iopub.execute_input": "2020-11-08T18:49:34.199891Z",
     "iopub.status.busy": "2020-11-08T18:49:34.198674Z",
     "iopub.status.idle": "2020-11-08T18:49:34.292970Z",
     "shell.execute_reply": "2020-11-08T18:49:34.293736Z"
    },
    "papermill": {
     "duration": 0.145586,
     "end_time": "2020-11-08T18:49:34.293965",
     "exception": false,
     "start_time": "2020-11-08T18:49:34.148379",
     "status": "completed"
    },
    "tags": []
   },
   "outputs": [
    {
     "name": "stdout",
     "output_type": "stream",
     "text": [
      "Survived : 2 Unique Category - float64\n",
      "        COUNT  RATIO  TARGET_MEAN  TARGET_COUNT  TARGET_STD\n",
      "0.0000    549 0.4194       0.0000           549      0.0000\n",
      "1.0000    342 0.2613       1.0000           342      0.0000\n",
      "\n",
      "\n",
      "Pclass : 3 Unique Category - int64\n",
      "   COUNT  RATIO  TARGET_MEAN  TARGET_COUNT  TARGET_STD\n",
      "1    323 0.2468       0.6296           216      0.4840\n",
      "2    277 0.2116       0.4728           184      0.5006\n",
      "3    709 0.5416       0.2424           491      0.4289\n",
      "\n",
      "\n",
      "Sex : 2 Unique Category - object\n",
      "        COUNT  RATIO  TARGET_MEAN  TARGET_COUNT  TARGET_STD\n",
      "female    466 0.3560       0.7420           314      0.4382\n",
      "male      843 0.6440       0.1889           577      0.3918\n",
      "\n",
      "\n",
      "SibSp : 7 Unique Category - int64\n",
      "   COUNT  RATIO  TARGET_MEAN  TARGET_COUNT  TARGET_STD\n",
      "0    891 0.6807       0.3454           608      0.4759\n",
      "1    319 0.2437       0.5359           209      0.4999\n",
      "2     42 0.0321       0.4643            28      0.5079\n",
      "3     20 0.0153       0.2500            16      0.4472\n",
      "4     22 0.0168       0.1667            18      0.3835\n",
      "5      6 0.0046       0.0000             5      0.0000\n",
      "8      9 0.0069       0.0000             7      0.0000\n",
      "\n",
      "\n",
      "Parch : 8 Unique Category - int64\n",
      "   COUNT  RATIO  TARGET_MEAN  TARGET_COUNT  TARGET_STD\n",
      "0   1002 0.7655       0.3437           678      0.4753\n",
      "1    170 0.1299       0.5508           118      0.4995\n",
      "2    113 0.0863       0.5000            80      0.5032\n",
      "3      8 0.0061       0.6000             5      0.5477\n",
      "4      6 0.0046       0.0000             4      0.0000\n",
      "5      6 0.0046       0.2000             5      0.4472\n",
      "6      2 0.0015       0.0000             1         nan\n",
      "9      2 0.0015          nan             0         nan\n",
      "\n",
      "\n",
      "Embarked : 3 Unique Category - object\n",
      "   COUNT  RATIO  TARGET_MEAN  TARGET_COUNT  TARGET_STD\n",
      "C    270 0.2063       0.5536           168      0.4986\n",
      "Q    123 0.0940       0.3896            77      0.4909\n",
      "S    914 0.6982       0.3370           644      0.4730\n",
      "\n",
      "\n",
      "# DTYPES -----------------------------\n",
      "Object Variables: ['Sex', 'Embarked'] \n",
      "\n",
      "Integer Variables: ['Pclass', 'SibSp', 'Parch'] \n",
      "\n",
      "Float Variables: ['Survived'] \n",
      "\n",
      "# OTHER -----------------------------\n",
      "More than 10 categories: Index(['Name', 'Ticket', 'Cabin'], dtype='object') \n",
      "\n",
      "Name      1307\n",
      "Ticket     929\n",
      "Cabin      186\n",
      "dtype: int64\n"
     ]
    }
   ],
   "source": [
    "def cat_eda(data, cat_length, target = \"Survived\"):  \n",
    "    dataframe = data.copy()\n",
    "    \n",
    "    #if len(ordinal_variable) > 0:\n",
    "    #    dataframe.drop(ordinal_variable, axis = 1, inplace = True)\n",
    "        \n",
    "    more_cat_cols = [col for col in dataframe.columns if len(dataframe[col].unique()) < cat_length]\n",
    "    \n",
    "    num_cols = [col for col in data.columns if data[col].dtypes != \"O\" \n",
    "                and len(data[col].unique()) >= cat_length]\n",
    "    \n",
    "    for i in more_cat_cols: \n",
    "        print(i, \":\", len(dataframe[i].value_counts()), \"Unique Category -\", str(dataframe[i].dtype))\n",
    "        print(pd.DataFrame({\"COUNT\": dataframe[i].value_counts(),\n",
    "                            \"RATIO\": dataframe[i].value_counts() / len(dataframe),\n",
    "                            \"TARGET_MEAN\": dataframe.groupby(i)[target].mean(),\n",
    "                            \"TARGET_COUNT\": dataframe.groupby(i)[target].count(),\n",
    "                            \"TARGET_STD\": dataframe.groupby(i)[target].std()}), end=\"\\n\\n\\n\")\n",
    "    \n",
    "    print(\"# DTYPES -----------------------------\")\n",
    "    print(\"Object Variables:\",dataframe[more_cat_cols].select_dtypes(\"object\").columns.tolist(), \"\\n\")\n",
    "    print(\"Integer Variables:\",dataframe[more_cat_cols].select_dtypes(\"integer\").columns.tolist(), \"\\n\")\n",
    "    print(\"Float Variables:\",dataframe[more_cat_cols].select_dtypes(\"float\").columns.tolist(), \"\\n\")\n",
    "    \n",
    "    print(\"# OTHER -----------------------------\")\n",
    "    print(\"More than \" + str(cat_length)+\" categories:\", dataframe.drop(more_cat_cols + num_cols, axis = 1).columns, \"\\n\")\n",
    "    print(dataframe.drop(more_cat_cols + num_cols, axis = 1).nunique())\n",
    "\n",
    "cat_eda(df, cat_length=10, target = \"Survived\")\n"
   ]
  },
  {
   "cell_type": "code",
   "execution_count": 12,
   "metadata": {
    "execution": {
     "iopub.execute_input": "2020-11-08T18:49:34.373122Z",
     "iopub.status.busy": "2020-11-08T18:49:34.372009Z",
     "iopub.status.idle": "2020-11-08T18:49:34.376835Z",
     "shell.execute_reply": "2020-11-08T18:49:34.376235Z"
    },
    "papermill": {
     "duration": 0.052183,
     "end_time": "2020-11-08T18:49:34.376978",
     "exception": false,
     "start_time": "2020-11-08T18:49:34.324795",
     "status": "completed"
    },
    "tags": []
   },
   "outputs": [
    {
     "data": {
      "text/html": [
       "<div>\n",
       "<style scoped>\n",
       "    .dataframe tbody tr th:only-of-type {\n",
       "        vertical-align: middle;\n",
       "    }\n",
       "\n",
       "    .dataframe tbody tr th {\n",
       "        vertical-align: top;\n",
       "    }\n",
       "\n",
       "    .dataframe thead th {\n",
       "        text-align: right;\n",
       "    }\n",
       "</style>\n",
       "<table border=\"1\" class=\"dataframe\">\n",
       "  <thead>\n",
       "    <tr style=\"text-align: right;\">\n",
       "      <th></th>\n",
       "      <th>PassengerId</th>\n",
       "      <th>Survived</th>\n",
       "      <th>Pclass</th>\n",
       "      <th>Name</th>\n",
       "      <th>Sex</th>\n",
       "      <th>Age</th>\n",
       "      <th>SibSp</th>\n",
       "      <th>Parch</th>\n",
       "      <th>Ticket</th>\n",
       "      <th>Fare</th>\n",
       "      <th>Cabin</th>\n",
       "      <th>Embarked</th>\n",
       "    </tr>\n",
       "  </thead>\n",
       "  <tbody>\n",
       "    <tr>\n",
       "      <th>61</th>\n",
       "      <td>62</td>\n",
       "      <td>1.0000</td>\n",
       "      <td>1</td>\n",
       "      <td>Icard, Miss. Amelie</td>\n",
       "      <td>female</td>\n",
       "      <td>38.0000</td>\n",
       "      <td>0</td>\n",
       "      <td>0</td>\n",
       "      <td>113572</td>\n",
       "      <td>80.0000</td>\n",
       "      <td>B28</td>\n",
       "      <td>NaN</td>\n",
       "    </tr>\n",
       "    <tr>\n",
       "      <th>829</th>\n",
       "      <td>830</td>\n",
       "      <td>1.0000</td>\n",
       "      <td>1</td>\n",
       "      <td>Stone, Mrs. George Nelson (Martha Evelyn)</td>\n",
       "      <td>female</td>\n",
       "      <td>62.0000</td>\n",
       "      <td>0</td>\n",
       "      <td>0</td>\n",
       "      <td>113572</td>\n",
       "      <td>80.0000</td>\n",
       "      <td>B28</td>\n",
       "      <td>NaN</td>\n",
       "    </tr>\n",
       "  </tbody>\n",
       "</table>\n",
       "</div>"
      ],
      "text/plain": [
       "     PassengerId  Survived  Pclass                                       Name  \\\n",
       "61            62    1.0000       1                        Icard, Miss. Amelie   \n",
       "829          830    1.0000       1  Stone, Mrs. George Nelson (Martha Evelyn)   \n",
       "\n",
       "        Sex     Age  SibSp  Parch  Ticket    Fare Cabin Embarked  \n",
       "61   female 38.0000      0      0  113572 80.0000   B28      NaN  \n",
       "829  female 62.0000      0      0  113572 80.0000   B28      NaN  "
      ]
     },
     "execution_count": 12,
     "metadata": {},
     "output_type": "execute_result"
    }
   ],
   "source": [
    "df[(df.Embarked.isnull()) | (df.Ticket == \"113572\")]"
   ]
  },
  {
   "cell_type": "code",
   "execution_count": 13,
   "metadata": {
    "execution": {
     "iopub.execute_input": "2020-11-08T18:49:34.454566Z",
     "iopub.status.busy": "2020-11-08T18:49:34.453690Z",
     "iopub.status.idle": "2020-11-08T18:49:34.458374Z",
     "shell.execute_reply": "2020-11-08T18:49:34.457619Z"
    },
    "papermill": {
     "duration": 0.050487,
     "end_time": "2020-11-08T18:49:34.458500",
     "exception": false,
     "start_time": "2020-11-08T18:49:34.408013",
     "status": "completed"
    },
    "tags": []
   },
   "outputs": [
    {
     "data": {
      "text/html": [
       "<div>\n",
       "<style scoped>\n",
       "    .dataframe tbody tr th:only-of-type {\n",
       "        vertical-align: middle;\n",
       "    }\n",
       "\n",
       "    .dataframe tbody tr th {\n",
       "        vertical-align: top;\n",
       "    }\n",
       "\n",
       "    .dataframe thead th {\n",
       "        text-align: right;\n",
       "    }\n",
       "</style>\n",
       "<table border=\"1\" class=\"dataframe\">\n",
       "  <thead>\n",
       "    <tr style=\"text-align: right;\">\n",
       "      <th></th>\n",
       "      <th>PassengerId</th>\n",
       "      <th>Survived</th>\n",
       "      <th>Pclass</th>\n",
       "      <th>Name</th>\n",
       "      <th>Sex</th>\n",
       "      <th>Age</th>\n",
       "      <th>SibSp</th>\n",
       "      <th>Parch</th>\n",
       "      <th>Ticket</th>\n",
       "      <th>Fare</th>\n",
       "      <th>Cabin</th>\n",
       "      <th>Embarked</th>\n",
       "    </tr>\n",
       "  </thead>\n",
       "  <tbody>\n",
       "    <tr>\n",
       "      <th>152</th>\n",
       "      <td>1044</td>\n",
       "      <td>nan</td>\n",
       "      <td>3</td>\n",
       "      <td>Storey, Mr. Thomas</td>\n",
       "      <td>male</td>\n",
       "      <td>60.5000</td>\n",
       "      <td>0</td>\n",
       "      <td>0</td>\n",
       "      <td>3701</td>\n",
       "      <td>nan</td>\n",
       "      <td>NaN</td>\n",
       "      <td>S</td>\n",
       "    </tr>\n",
       "  </tbody>\n",
       "</table>\n",
       "</div>"
      ],
      "text/plain": [
       "     PassengerId  Survived  Pclass                Name   Sex     Age  SibSp  \\\n",
       "152         1044       nan       3  Storey, Mr. Thomas  male 60.5000      0   \n",
       "\n",
       "     Parch Ticket  Fare Cabin Embarked  \n",
       "152      0   3701   nan   NaN        S  "
      ]
     },
     "execution_count": 13,
     "metadata": {},
     "output_type": "execute_result"
    }
   ],
   "source": [
    "df[(df.Fare.isnull())]"
   ]
  },
  {
   "cell_type": "code",
   "execution_count": 14,
   "metadata": {
    "execution": {
     "iopub.execute_input": "2020-11-08T18:49:34.532360Z",
     "iopub.status.busy": "2020-11-08T18:49:34.531413Z",
     "iopub.status.idle": "2020-11-08T18:49:34.542912Z",
     "shell.execute_reply": "2020-11-08T18:49:34.542271Z"
    },
    "papermill": {
     "duration": 0.053032,
     "end_time": "2020-11-08T18:49:34.543032",
     "exception": false,
     "start_time": "2020-11-08T18:49:34.490000",
     "status": "completed"
    },
    "tags": []
   },
   "outputs": [],
   "source": [
    "# Mode: S\n",
    "df[\"Embarked\"] = df[\"Embarked\"].fillna(df[\"Embarked\"].mode()[0])\n",
    "\n",
    "# All data median = 14, Pclass = 3 median = 8\n",
    "df[\"Fare\"] = df[\"Fare\"].fillna(df.groupby(\"Pclass\")[\"Fare\"].transform(\"median\"))\n",
    "\n",
    "\n",
    "# Title\n",
    "df['NEW_TITLE'] = df.Name.str.extract(' ([A-Za-z]+)\\.', expand=False)\n",
    "# Fill NA with Title\n",
    "df[\"Age\"] = df[\"Age\"].fillna(df.groupby(\"NEW_TITLE\")[\"Age\"].transform(\"mean\"))"
   ]
  },
  {
   "cell_type": "code",
   "execution_count": 15,
   "metadata": {
    "execution": {
     "iopub.execute_input": "2020-11-08T18:49:34.635101Z",
     "iopub.status.busy": "2020-11-08T18:49:34.620055Z",
     "iopub.status.idle": "2020-11-08T18:49:34.701191Z",
     "shell.execute_reply": "2020-11-08T18:49:34.701739Z"
    },
    "papermill": {
     "duration": 0.127347,
     "end_time": "2020-11-08T18:49:34.701920",
     "exception": false,
     "start_time": "2020-11-08T18:49:34.574573",
     "status": "completed"
    },
    "tags": []
   },
   "outputs": [],
   "source": [
    "# Label\n",
    "df[\"NEW_CABIN_BOOL\"] = df[\"Cabin\"].notnull().astype('int')\n",
    "\n",
    "# Family\n",
    "df.loc[((df['SibSp'] + df['Parch']) > 0), \"NEW_IS_ALONE\"] = 0\n",
    "df.loc[((df['SibSp'] + df['Parch']) == 0), \"NEW_IS_ALONE\"] = 1\n",
    "\n",
    "# NUMERIC TO CATEGORICAL\n",
    "df.loc[(df['Age'] < 18), 'NEW_AGE_CAT'] = 'young'\n",
    "df.loc[(df['Age'] >= 18) & (df['Age'] < 56), 'NEW_AGE_CAT'] = 'mature'\n",
    "df.loc[(df['Age'] >= 56), 'NEW_AGE_CAT'] = 'senior'\n",
    "\n",
    "df[\"AGECAT2\"] = pd.cut(df.Age, 8, labels = np.arange(1,9,1)).astype(int)\n",
    "\n",
    "# INTERACTIONS\n",
    "\n",
    "df[\"FAMILY_SIZE\"] = df[\"SibSp\"] + df[\"Parch\"] + 1\n",
    "df[\"NEW_AGExPCLASS\"] = df[\"Age\"] * df[\"Pclass\"]\n",
    "\n",
    "df.loc[(df['Sex'] == 'male') & (df['Age'] <= 21), 'NEW_SEX_CAT'] = 'youngmale'\n",
    "df.loc[(df['Sex'] == 'male') & ((df['Age'] > 21) & (df['Age']) < 50), 'NEW_SEX_CAT'] = 'maturemale'\n",
    "df.loc[(df['Sex'] == 'male') & (df['Age'] > 50), 'NEW_SEX_CAT'] = 'seniormale'\n",
    "df.loc[(df['Sex'] == 'female') & (df['Age'] <= 21), 'NEW_SEX_CAT'] = 'youngfemale'\n",
    "df.loc[(df['Sex'] == 'female') & ((df['Age'] > 21) & (df['Age']) < 50), 'NEW_SEX_CAT'] = 'maturefemale'\n",
    "df.loc[(df['Sex'] == 'female') & (df['Age'] > 50), 'NEW_SEX_CAT'] = 'seniorfemale'\n",
    "\n",
    "\n",
    "# PERSONNEL\n",
    "df[\"NEW_CABIN_BOOL\"] = df[\"Cabin\"].notnull().astype('int')\n",
    "\n",
    "# CABIN CODE\n",
    "cabin = []\n",
    "import re\n",
    "for i in range(0,len(df)):\n",
    "    regex = re.compile('[A-Z]')\n",
    "    try:\n",
    "        temp = regex.findall(df.Cabin.iloc[i])[0]   \n",
    "    except:\n",
    "        temp = \"Unknown\"\n",
    "    cabin.append(temp)\n",
    "df[\"CabinCode\"] = cabin\n",
    "\n",
    "\n",
    "# FARE\n",
    "df[\"Fare_0\"] = np.where(df.Fare < 1, 1, 0)\n",
    "\n",
    "df[\"FareClass\"]= pd.cut(df.Fare, 10, labels = np.arange(1,11,1)).astype(int)\n",
    "\n",
    "# Pclass / Fare\n",
    "df[\"NewClass\"] = df.Pclass / (df.Fare + 1)\n",
    "\n",
    "\n",
    "# DROP\n",
    "df.drop([\"Name\"], axis = 1, inplace = True)\n",
    "\n",
    "\n",
    "df[\"Cabin\"] = df.Cabin.fillna(\"Unknown\")"
   ]
  },
  {
   "cell_type": "code",
   "execution_count": 16,
   "metadata": {
    "execution": {
     "iopub.execute_input": "2020-11-08T18:49:34.780107Z",
     "iopub.status.busy": "2020-11-08T18:49:34.778549Z",
     "iopub.status.idle": "2020-11-08T18:49:34.791726Z",
     "shell.execute_reply": "2020-11-08T18:49:34.791053Z"
    },
    "papermill": {
     "duration": 0.057997,
     "end_time": "2020-11-08T18:49:34.791873",
     "exception": false,
     "start_time": "2020-11-08T18:49:34.733876",
     "status": "completed"
    },
    "tags": []
   },
   "outputs": [],
   "source": [
    "# LABEL ENCODER\n",
    "from sklearn import preprocessing\n",
    "le = preprocessing.LabelEncoder()\n",
    "\n",
    "for i in [\"Sex\", \"Ticket\", \"Cabin\", \"CabinCode\"]:\n",
    "    df[i] = le.fit_transform(df[i])\n",
    "    \n",
    "# ONE-HOT ENCODER\n",
    "df = pd.get_dummies(df, columns=[\"Embarked\", \"Pclass\",\"NEW_TITLE\", \"NEW_AGE_CAT\", \"NEW_SEX_CAT\"], drop_first=True)"
   ]
  },
  {
   "cell_type": "code",
   "execution_count": 17,
   "metadata": {
    "execution": {
     "iopub.execute_input": "2020-11-08T18:49:34.861672Z",
     "iopub.status.busy": "2020-11-08T18:49:34.860954Z",
     "iopub.status.idle": "2020-11-08T18:49:35.282062Z",
     "shell.execute_reply": "2020-11-08T18:49:35.282653Z"
    },
    "papermill": {
     "duration": 0.458817,
     "end_time": "2020-11-08T18:49:35.282807",
     "exception": false,
     "start_time": "2020-11-08T18:49:34.823990",
     "status": "completed"
    },
    "tags": []
   },
   "outputs": [
    {
     "name": "stdout",
     "output_type": "stream",
     "text": [
      "Survived : 2 Unique Category - float64\n",
      "        COUNT  RATIO  TARGET_MEAN  TARGET_COUNT  TARGET_STD\n",
      "0.0000    549 0.4194       0.0000           549      0.0000\n",
      "1.0000    342 0.2613       1.0000           342      0.0000\n",
      "\n",
      "\n",
      "Sex : 2 Unique Category - int64\n",
      "   COUNT  RATIO  TARGET_MEAN  TARGET_COUNT  TARGET_STD\n",
      "0    466 0.3560       0.7420           314      0.4382\n",
      "1    843 0.6440       0.1889           577      0.3918\n",
      "\n",
      "\n",
      "SibSp : 7 Unique Category - int64\n",
      "   COUNT  RATIO  TARGET_MEAN  TARGET_COUNT  TARGET_STD\n",
      "0    891 0.6807       0.3454           608      0.4759\n",
      "1    319 0.2437       0.5359           209      0.4999\n",
      "2     42 0.0321       0.4643            28      0.5079\n",
      "3     20 0.0153       0.2500            16      0.4472\n",
      "4     22 0.0168       0.1667            18      0.3835\n",
      "5      6 0.0046       0.0000             5      0.0000\n",
      "8      9 0.0069       0.0000             7      0.0000\n",
      "\n",
      "\n",
      "Parch : 8 Unique Category - int64\n",
      "   COUNT  RATIO  TARGET_MEAN  TARGET_COUNT  TARGET_STD\n",
      "0   1002 0.7655       0.3437           678      0.4753\n",
      "1    170 0.1299       0.5508           118      0.4995\n",
      "2    113 0.0863       0.5000            80      0.5032\n",
      "3      8 0.0061       0.6000             5      0.5477\n",
      "4      6 0.0046       0.0000             4      0.0000\n",
      "5      6 0.0046       0.2000             5      0.4472\n",
      "6      2 0.0015       0.0000             1         nan\n",
      "9      2 0.0015          nan             0         nan\n",
      "\n",
      "\n",
      "NEW_CABIN_BOOL : 2 Unique Category - int64\n",
      "   COUNT  RATIO  TARGET_MEAN  TARGET_COUNT  TARGET_STD\n",
      "0   1014 0.7746       0.2999           687      0.4585\n",
      "1    295 0.2254       0.6667           204      0.4726\n",
      "\n",
      "\n",
      "NEW_IS_ALONE : 2 Unique Category - float64\n",
      "        COUNT  RATIO  TARGET_MEAN  TARGET_COUNT  TARGET_STD\n",
      "0.0000    519 0.3965       0.5056           354      0.5007\n",
      "1.0000    790 0.6035       0.3035           537      0.4602\n",
      "\n",
      "\n",
      "AGECAT2 : 8 Unique Category - int64\n",
      "   COUNT  RATIO  TARGET_MEAN  TARGET_COUNT  TARGET_STD\n",
      "1     94 0.0718       0.5882            68      0.4958\n",
      "2    162 0.1238       0.3826           115      0.4882\n",
      "3    412 0.3147       0.3985           266      0.4905\n",
      "4    413 0.3155       0.3333           291      0.4722\n",
      "5    133 0.1016       0.3793            87      0.4880\n",
      "6     62 0.0474       0.4048            42      0.4968\n",
      "7     27 0.0206       0.2353            17      0.4372\n",
      "8      6 0.0046       0.2000             5      0.4472\n",
      "\n",
      "\n",
      "FAMILY_SIZE : 9 Unique Category - int64\n",
      "    COUNT  RATIO  TARGET_MEAN  TARGET_COUNT  TARGET_STD\n",
      "1     790 0.6035       0.3035           537      0.4602\n",
      "2     235 0.1795       0.5528           161      0.4988\n",
      "3     159 0.1215       0.5784           102      0.4962\n",
      "4      43 0.0328       0.7241            29      0.4549\n",
      "5      22 0.0168       0.2000            15      0.4140\n",
      "6      25 0.0191       0.1364            22      0.3513\n",
      "7      16 0.0122       0.3333            12      0.4924\n",
      "8       8 0.0061       0.0000             6      0.0000\n",
      "11     11 0.0084       0.0000             7      0.0000\n",
      "\n",
      "\n",
      "CabinCode : 9 Unique Category - int64\n",
      "   COUNT  RATIO  TARGET_MEAN  TARGET_COUNT  TARGET_STD\n",
      "0     22 0.0168       0.4667            15      0.5164\n",
      "1     65 0.0497       0.7447            47      0.4408\n",
      "2     94 0.0718       0.5932            59      0.4954\n",
      "3     46 0.0351       0.7576            33      0.4352\n",
      "4     41 0.0313       0.7500            32      0.4399\n",
      "5     21 0.0160       0.6154            13      0.5064\n",
      "6      5 0.0038       0.5000             4      0.5774\n",
      "7      1 0.0008       0.0000             1         nan\n",
      "8   1014 0.7746       0.2999           687      0.4585\n",
      "\n",
      "\n",
      "Fare_0 : 2 Unique Category - int64\n",
      "   COUNT  RATIO  TARGET_MEAN  TARGET_COUNT  TARGET_STD\n",
      "0   1292 0.9870       0.3893           876      0.4879\n",
      "1     17 0.0130       0.0667            15      0.2582\n",
      "\n",
      "\n",
      "FareClass : 7 Unique Category - int64\n",
      "    COUNT  RATIO  TARGET_MEAN  TARGET_COUNT  TARGET_STD\n",
      "1    1071 0.8182       0.3183           732      0.4661\n",
      "2     154 0.1176       0.6604           106      0.4758\n",
      "3      42 0.0321       0.7419            31      0.4448\n",
      "4       4 0.0031       1.0000             2      0.0000\n",
      "5      21 0.0160       0.6364            11      0.5045\n",
      "6      13 0.0099       0.6667             6      0.5164\n",
      "10      4 0.0031       1.0000             3      0.0000\n",
      "\n",
      "\n",
      "Embarked_Q : 2 Unique Category - uint8\n",
      "   COUNT  RATIO  TARGET_MEAN  TARGET_COUNT  TARGET_STD\n",
      "0   1186 0.9060       0.3833           814      0.4865\n",
      "1    123 0.0940       0.3896            77      0.4909\n",
      "\n",
      "\n",
      "Embarked_S : 2 Unique Category - uint8\n",
      "   COUNT  RATIO  TARGET_MEAN  TARGET_COUNT  TARGET_STD\n",
      "0    393 0.3002       0.5020           245      0.5010\n",
      "1    916 0.6998       0.3390           646      0.4737\n",
      "\n",
      "\n",
      "Pclass_2 : 2 Unique Category - uint8\n",
      "   COUNT  RATIO  TARGET_MEAN  TARGET_COUNT  TARGET_STD\n",
      "0   1032 0.7884       0.3607           707      0.4805\n",
      "1    277 0.2116       0.4728           184      0.5006\n",
      "\n",
      "\n",
      "Pclass_3 : 2 Unique Category - uint8\n",
      "   COUNT  RATIO  TARGET_MEAN  TARGET_COUNT  TARGET_STD\n",
      "0    600 0.4584       0.5575           400      0.4973\n",
      "1    709 0.5416       0.2424           491      0.4289\n",
      "\n",
      "\n",
      "NEW_TITLE_Col : 2 Unique Category - uint8\n",
      "   COUNT  RATIO  TARGET_MEAN  TARGET_COUNT  TARGET_STD\n",
      "0   1305 0.9969       0.3836           889      0.4865\n",
      "1      4 0.0031       0.5000             2      0.7071\n",
      "\n",
      "\n",
      "NEW_TITLE_Countess : 2 Unique Category - uint8\n",
      "   COUNT  RATIO  TARGET_MEAN  TARGET_COUNT  TARGET_STD\n",
      "0   1308 0.9992       0.3831           890      0.4864\n",
      "1      1 0.0008       1.0000             1         nan\n",
      "\n",
      "\n",
      "NEW_TITLE_Don : 2 Unique Category - uint8\n",
      "   COUNT  RATIO  TARGET_MEAN  TARGET_COUNT  TARGET_STD\n",
      "0   1308 0.9992       0.3843           890      0.4867\n",
      "1      1 0.0008       0.0000             1         nan\n",
      "\n",
      "\n",
      "NEW_TITLE_Dona : 2 Unique Category - uint8\n",
      "   COUNT  RATIO  TARGET_MEAN  TARGET_COUNT  TARGET_STD\n",
      "0   1308 0.9992       0.3838           891      0.4866\n",
      "1      1 0.0008          nan             0         nan\n",
      "\n",
      "\n",
      "NEW_TITLE_Dr : 2 Unique Category - uint8\n",
      "   COUNT  RATIO  TARGET_MEAN  TARGET_COUNT  TARGET_STD\n",
      "0   1301 0.9939       0.3835           884      0.4865\n",
      "1      8 0.0061       0.4286             7      0.5345\n",
      "\n",
      "\n",
      "NEW_TITLE_Jonkheer : 2 Unique Category - uint8\n",
      "   COUNT  RATIO  TARGET_MEAN  TARGET_COUNT  TARGET_STD\n",
      "0   1308 0.9992       0.3843           890      0.4867\n",
      "1      1 0.0008       0.0000             1         nan\n",
      "\n",
      "\n",
      "NEW_TITLE_Lady : 2 Unique Category - uint8\n",
      "   COUNT  RATIO  TARGET_MEAN  TARGET_COUNT  TARGET_STD\n",
      "0   1308 0.9992       0.3831           890      0.4864\n",
      "1      1 0.0008       1.0000             1         nan\n",
      "\n",
      "\n",
      "NEW_TITLE_Major : 2 Unique Category - uint8\n",
      "   COUNT  RATIO  TARGET_MEAN  TARGET_COUNT  TARGET_STD\n",
      "0   1307 0.9985       0.3836           889      0.4865\n",
      "1      2 0.0015       0.5000             2      0.7071\n",
      "\n",
      "\n",
      "NEW_TITLE_Master : 2 Unique Category - uint8\n",
      "   COUNT  RATIO  TARGET_MEAN  TARGET_COUNT  TARGET_STD\n",
      "0   1248 0.9534       0.3749           851      0.4844\n",
      "1     61 0.0466       0.5750            40      0.5006\n",
      "\n",
      "\n",
      "NEW_TITLE_Miss : 2 Unique Category - uint8\n",
      "   COUNT  RATIO  TARGET_MEAN  TARGET_COUNT  TARGET_STD\n",
      "0   1049 0.8014       0.3032           709      0.4600\n",
      "1    260 0.1986       0.6978           182      0.4605\n",
      "\n",
      "\n",
      "NEW_TITLE_Mlle : 2 Unique Category - uint8\n",
      "   COUNT  RATIO  TARGET_MEAN  TARGET_COUNT  TARGET_STD\n",
      "0   1307 0.9985       0.3825           889      0.4863\n",
      "1      2 0.0015       1.0000             2      0.0000\n",
      "\n",
      "\n",
      "NEW_TITLE_Mme : 2 Unique Category - uint8\n",
      "   COUNT  RATIO  TARGET_MEAN  TARGET_COUNT  TARGET_STD\n",
      "0   1308 0.9992       0.3831           890      0.4864\n",
      "1      1 0.0008       1.0000             1         nan\n",
      "\n",
      "\n",
      "NEW_TITLE_Mr : 2 Unique Category - uint8\n",
      "   COUNT  RATIO  TARGET_MEAN  TARGET_COUNT  TARGET_STD\n",
      "0    552 0.4217       0.6979           374      0.4598\n",
      "1    757 0.5783       0.1567           517      0.3638\n",
      "\n",
      "\n",
      "NEW_TITLE_Mrs : 2 Unique Category - uint8\n",
      "   COUNT  RATIO  TARGET_MEAN  TARGET_COUNT  TARGET_STD\n",
      "0   1112 0.8495       0.3172           766      0.4657\n",
      "1    197 0.1505       0.7920           125      0.4075\n",
      "\n",
      "\n",
      "NEW_TITLE_Ms : 2 Unique Category - uint8\n",
      "   COUNT  RATIO  TARGET_MEAN  TARGET_COUNT  TARGET_STD\n",
      "0   1307 0.9985       0.3831           890      0.4864\n",
      "1      2 0.0015       1.0000             1         nan\n",
      "\n",
      "\n",
      "NEW_TITLE_Rev : 2 Unique Category - uint8\n",
      "   COUNT  RATIO  TARGET_MEAN  TARGET_COUNT  TARGET_STD\n",
      "0   1301 0.9939       0.3864           885      0.4872\n",
      "1      8 0.0061       0.0000             6      0.0000\n",
      "\n",
      "\n",
      "NEW_TITLE_Sir : 2 Unique Category - uint8\n",
      "   COUNT  RATIO  TARGET_MEAN  TARGET_COUNT  TARGET_STD\n",
      "0   1308 0.9992       0.3831           890      0.4864\n",
      "1      1 0.0008       1.0000             1         nan\n",
      "\n",
      "\n",
      "NEW_AGE_CAT_senior : 2 Unique Category - uint8\n",
      "   COUNT  RATIO  TARGET_MEAN  TARGET_COUNT  TARGET_STD\n",
      "0   1251 0.9557       0.3873           852      0.4874\n",
      "1     58 0.0443       0.3077            39      0.4676\n",
      "\n",
      "\n",
      "NEW_AGE_CAT_young : 2 Unique Category - uint8\n",
      "   COUNT  RATIO  TARGET_MEAN  TARGET_COUNT  TARGET_STD\n",
      "0   1147 0.8762       0.3605           774      0.4804\n",
      "1    162 0.1238       0.5385           117      0.5007\n",
      "\n",
      "\n",
      "NEW_SEX_CAT_maturemale : 2 Unique Category - uint8\n",
      "   COUNT  RATIO  TARGET_MEAN  TARGET_COUNT  TARGET_STD\n",
      "0    529 0.4041       0.6620           361      0.4737\n",
      "1    780 0.5959       0.1943           530      0.3961\n",
      "\n",
      "\n",
      "NEW_SEX_CAT_seniorfemale : 2 Unique Category - uint8\n",
      "   COUNT  RATIO  TARGET_MEAN  TARGET_COUNT  TARGET_STD\n",
      "0   1277 0.9756       0.3730           874      0.4839\n",
      "1     32 0.0244       0.9412            17      0.2425\n",
      "\n",
      "\n",
      "NEW_SEX_CAT_seniormale : 2 Unique Category - uint8\n",
      "   COUNT  RATIO  TARGET_MEAN  TARGET_COUNT  TARGET_STD\n",
      "0   1246 0.9519       0.3981           844      0.4898\n",
      "1     63 0.0481       0.1277            47      0.3373\n",
      "\n",
      "\n",
      "# DTYPES -----------------------------\n",
      "Object Variables: [] \n",
      "\n",
      "Integer Variables: ['Sex', 'SibSp', 'Parch', 'NEW_CABIN_BOOL', 'AGECAT2', 'FAMILY_SIZE', 'CabinCode', 'Fare_0', 'FareClass', 'Embarked_Q', 'Embarked_S', 'Pclass_2', 'Pclass_3', 'NEW_TITLE_Col', 'NEW_TITLE_Countess', 'NEW_TITLE_Don', 'NEW_TITLE_Dona', 'NEW_TITLE_Dr', 'NEW_TITLE_Jonkheer', 'NEW_TITLE_Lady', 'NEW_TITLE_Major', 'NEW_TITLE_Master', 'NEW_TITLE_Miss', 'NEW_TITLE_Mlle', 'NEW_TITLE_Mme', 'NEW_TITLE_Mr', 'NEW_TITLE_Mrs', 'NEW_TITLE_Ms', 'NEW_TITLE_Rev', 'NEW_TITLE_Sir', 'NEW_AGE_CAT_senior', 'NEW_AGE_CAT_young', 'NEW_SEX_CAT_maturemale', 'NEW_SEX_CAT_seniorfemale', 'NEW_SEX_CAT_seniormale'] \n",
      "\n",
      "Float Variables: ['Survived', 'NEW_IS_ALONE'] \n",
      "\n",
      "# OTHER -----------------------------\n",
      "More than 10 categories: Index([], dtype='object') \n",
      "\n",
      "Series([], dtype: float64)\n"
     ]
    }
   ],
   "source": [
    "cat_eda(df, cat_length=10, target = \"Survived\")"
   ]
  },
  {
   "cell_type": "code",
   "execution_count": 18,
   "metadata": {
    "execution": {
     "iopub.execute_input": "2020-11-08T18:49:35.369549Z",
     "iopub.status.busy": "2020-11-08T18:49:35.367348Z",
     "iopub.status.idle": "2020-11-08T18:49:47.008147Z",
     "shell.execute_reply": "2020-11-08T18:49:47.008678Z"
    },
    "papermill": {
     "duration": 11.692368,
     "end_time": "2020-11-08T18:49:47.008842",
     "exception": false,
     "start_time": "2020-11-08T18:49:35.316474",
     "status": "completed"
    },
    "tags": []
   },
   "outputs": [
    {
     "name": "stdout",
     "output_type": "stream",
     "text": [
      "# Algorithm Comparison\n",
      "-----------------------------------------\n",
      "LR: 0.813695 (0.033384)\n",
      "NBAYES: 0.798052 (0.051104)\n",
      "KNN: 0.713820 (0.050957)\n",
      "CART: 0.792422 (0.044980)\n",
      "BAGGING: 0.829438 (0.031484)\n",
      "RF: 0.831673 (0.032424)\n",
      "SVM: 0.661061 (0.052360)\n",
      "ADAB: 0.822684 (0.039753)\n",
      "GBM: 0.844032 (0.030927)\n",
      "XGB: 0.830549 (0.028913)\n",
      "LGBM: 0.831710 (0.035142)\n",
      "\n",
      "\n"
     ]
    },
    {
     "data": {
      "image/png": "[encoded data removed]",
      "text/plain": [
       "<Figure size 1080x720 with 1 Axes>"
      ]
     },
     "metadata": {
      "needs_background": "light"
     },
     "output_type": "display_data"
    }
   ],
   "source": [
    "# Train Test Split After Data Manipulation\n",
    "train = df.iloc[:891]\n",
    "train[\"Survived\"] = train[\"Survived\"].astype(\"int\")\n",
    "train.drop(\"PassengerId\", axis = 1, inplace = True)\n",
    "\n",
    "test = df.iloc[891:].drop(\"Survived\", axis = 1)\n",
    "\n",
    "X_train = train.drop(\"Survived\", axis = 1)\n",
    "y_train = train.Survived\n",
    "\n",
    "\n",
    "# All Models & Train Validation Scores\n",
    "models = [('LR', LogisticRegression()),\n",
    "          (\"NBAYES\", GaussianNB()),\n",
    "          ('KNN', KNeighborsClassifier()),\n",
    "          ('CART', DecisionTreeClassifier()),\n",
    "          (\"BAGGING\", BaggingClassifier()),\n",
    "          ('RF', RandomForestClassifier()),\n",
    "          ('SVM', SVC(gamma='auto')),\n",
    "          (\"ADAB\",AdaBoostClassifier()),\n",
    "          ('GBM', GradientBoostingClassifier()),\n",
    "          (\"XGB\", XGBClassifier()),\n",
    "          (\"LGBM\", LGBMClassifier())]\n",
    "\n",
    "# evaluate each model in turn\n",
    "results = []\n",
    "names = []\n",
    "\n",
    "print(\"# Algorithm Comparison\")\n",
    "print(\"-----------------------------------------\")\n",
    "for name, model in models:\n",
    "    kfold = KFold(n_splits=10, random_state=123456)\n",
    "    cv_results = cross_val_score(model, X_train, y_train, cv=kfold, scoring=\"accuracy\")\n",
    "    results.append(cv_results)\n",
    "    names.append(name)\n",
    "    msg = \"%s: %f (%f)\" % (name, cv_results.mean(), cv_results.std())\n",
    "    print(msg)\n",
    "    \n",
    "print(\"\\n\")    \n",
    "\n",
    "# boxplot algorithm comparison\n",
    "fig = plt.figure(figsize=(15, 10))\n",
    "fig.suptitle('Algorithm Comparison')\n",
    "ax = fig.add_subplot(111)\n",
    "plt.boxplot(results)\n",
    "ax.set_xticklabels(names)\n",
    "plt.show()"
   ]
  },
  {
   "cell_type": "code",
   "execution_count": 19,
   "metadata": {
    "execution": {
     "iopub.execute_input": "2020-11-08T18:49:47.091811Z",
     "iopub.status.busy": "2020-11-08T18:49:47.091059Z",
     "iopub.status.idle": "2020-11-08T18:49:47.097413Z",
     "shell.execute_reply": "2020-11-08T18:49:47.096756Z"
    },
    "papermill": {
     "duration": 0.050029,
     "end_time": "2020-11-08T18:49:47.097534",
     "exception": false,
     "start_time": "2020-11-08T18:49:47.047505",
     "status": "completed"
    },
    "tags": []
   },
   "outputs": [
    {
     "data": {
      "text/plain": [
       "GradientBoostingClassifier(random_state=1)"
      ]
     },
     "execution_count": 19,
     "metadata": {},
     "output_type": "execute_result"
    }
   ],
   "source": [
    "gbm = GradientBoostingClassifier(\n",
    "    random_state=1\n",
    ")\n",
    "gbm"
   ]
  },
  {
   "cell_type": "code",
   "execution_count": 20,
   "metadata": {
    "execution": {
     "iopub.execute_input": "2020-11-08T18:49:47.185051Z",
     "iopub.status.busy": "2020-11-08T18:49:47.183839Z",
     "iopub.status.idle": "2020-11-08T18:51:44.886741Z",
     "shell.execute_reply": "2020-11-08T18:51:44.887366Z"
    },
    "papermill": {
     "duration": 117.750624,
     "end_time": "2020-11-08T18:51:44.887560",
     "exception": false,
     "start_time": "2020-11-08T18:49:47.136936",
     "status": "completed"
    },
    "tags": []
   },
   "outputs": [
    {
     "data": {
      "text/plain": [
       "GridSearchCV(cv=10, estimator=GradientBoostingClassifier(random_state=1),\n",
       "             n_jobs=-1,\n",
       "             param_grid={'max_depth': array([ 3,  4,  5,  6,  7,  8,  9, 10, 11, 12, 13, 14, 15]),\n",
       "                         'max_leaf_nodes': array([ 2,  3,  4,  5,  6,  7,  8,  9, 10])},\n",
       "             scoring='accuracy')"
      ]
     },
     "execution_count": 20,
     "metadata": {},
     "output_type": "execute_result"
    }
   ],
   "source": [
    "params = {\n",
    "    #\"ccp_alpha\":np.arange(0.0, 1.1, 0.1),\n",
    "    \"max_depth\":np.arange(3, 16, 1),\n",
    "    \"max_leaf_nodes\":np.arange(2, 11, 1)\n",
    "}\n",
    "\n",
    "\n",
    "from sklearn.model_selection import RandomizedSearchCV, GridSearchCV\n",
    "\n",
    "gs = GridSearchCV(gbm, params,  n_jobs=-1, cv = 10, scoring = \"accuracy\")\n",
    "gs_gbm = gs.fit(X_train, y_train)\n",
    "\n",
    "gs_gbm"
   ]
  },
  {
   "cell_type": "code",
   "execution_count": 21,
   "metadata": {
    "execution": {
     "iopub.execute_input": "2020-11-08T18:51:44.976915Z",
     "iopub.status.busy": "2020-11-08T18:51:44.975881Z",
     "iopub.status.idle": "2020-11-08T18:51:44.991506Z",
     "shell.execute_reply": "2020-11-08T18:51:44.990874Z"
    },
    "papermill": {
     "duration": 0.064502,
     "end_time": "2020-11-08T18:51:44.991628",
     "exception": false,
     "start_time": "2020-11-08T18:51:44.927126",
     "status": "completed"
    },
    "tags": []
   },
   "outputs": [
    {
     "name": "stdout",
     "output_type": "stream",
     "text": [
      "              precision    recall  f1-score   support\n",
      "\n",
      "           0       0.94      0.97      0.95       549\n",
      "           1       0.94      0.90      0.92       342\n",
      "\n",
      "    accuracy                           0.94       891\n",
      "   macro avg       0.94      0.94      0.94       891\n",
      "weighted avg       0.94      0.94      0.94       891\n",
      "\n"
     ]
    }
   ],
   "source": [
    "print(classification_report(y_train, gs_gbm.predict(X_train)))"
   ]
  },
  {
   "cell_type": "code",
   "execution_count": 22,
   "metadata": {
    "execution": {
     "iopub.execute_input": "2020-11-08T18:51:45.085886Z",
     "iopub.status.busy": "2020-11-08T18:51:45.082876Z",
     "iopub.status.idle": "2020-11-08T18:51:45.315451Z",
     "shell.execute_reply": "2020-11-08T18:51:45.314573Z"
    },
    "papermill": {
     "duration": 0.28327,
     "end_time": "2020-11-08T18:51:45.315580",
     "exception": false,
     "start_time": "2020-11-08T18:51:45.032310",
     "status": "completed"
    },
    "tags": []
   },
   "outputs": [],
   "source": [
    "sub = pd.DataFrame({\"PassengerId\":test.PassengerId, \"Survived\":gs_gbm.predict(test.drop(\"PassengerId\", axis = 1))})\n",
    "sub.to_csv(\"submission.csv\", index = None)"
   ]
  },
  {
   "cell_type": "code",
   "execution_count": 23,
   "metadata": {
    "execution": {
     "iopub.execute_input": "2020-11-08T18:51:45.416009Z",
     "iopub.status.busy": "2020-11-08T18:51:45.414994Z",
     "iopub.status.idle": "2020-11-08T18:51:45.419660Z",
     "shell.execute_reply": "2020-11-08T18:51:45.419053Z"
    },
    "papermill": {
     "duration": 0.063546,
     "end_time": "2020-11-08T18:51:45.419778",
     "exception": false,
     "start_time": "2020-11-08T18:51:45.356232",
     "status": "completed"
    },
    "tags": []
   },
   "outputs": [
    {
     "data": {
      "text/html": [
       "<div>\n",
       "<style scoped>\n",
       "    .dataframe tbody tr th:only-of-type {\n",
       "        vertical-align: middle;\n",
       "    }\n",
       "\n",
       "    .dataframe tbody tr th {\n",
       "        vertical-align: top;\n",
       "    }\n",
       "\n",
       "    .dataframe thead th {\n",
       "        text-align: right;\n",
       "    }\n",
       "</style>\n",
       "<table border=\"1\" class=\"dataframe\">\n",
       "  <thead>\n",
       "    <tr style=\"text-align: right;\">\n",
       "      <th></th>\n",
       "      <th>PassengerId</th>\n",
       "      <th>Survived</th>\n",
       "    </tr>\n",
       "  </thead>\n",
       "  <tbody>\n",
       "    <tr>\n",
       "      <th>0</th>\n",
       "      <td>892</td>\n",
       "      <td>0</td>\n",
       "    </tr>\n",
       "    <tr>\n",
       "      <th>1</th>\n",
       "      <td>893</td>\n",
       "      <td>0</td>\n",
       "    </tr>\n",
       "    <tr>\n",
       "      <th>2</th>\n",
       "      <td>894</td>\n",
       "      <td>0</td>\n",
       "    </tr>\n",
       "    <tr>\n",
       "      <th>3</th>\n",
       "      <td>895</td>\n",
       "      <td>0</td>\n",
       "    </tr>\n",
       "    <tr>\n",
       "      <th>4</th>\n",
       "      <td>896</td>\n",
       "      <td>1</td>\n",
       "    </tr>\n",
       "    <tr>\n",
       "      <th>5</th>\n",
       "      <td>897</td>\n",
       "      <td>0</td>\n",
       "    </tr>\n",
       "    <tr>\n",
       "      <th>6</th>\n",
       "      <td>898</td>\n",
       "      <td>1</td>\n",
       "    </tr>\n",
       "    <tr>\n",
       "      <th>7</th>\n",
       "      <td>899</td>\n",
       "      <td>0</td>\n",
       "    </tr>\n",
       "    <tr>\n",
       "      <th>8</th>\n",
       "      <td>900</td>\n",
       "      <td>1</td>\n",
       "    </tr>\n",
       "    <tr>\n",
       "      <th>9</th>\n",
       "      <td>901</td>\n",
       "      <td>0</td>\n",
       "    </tr>\n",
       "    <tr>\n",
       "      <th>10</th>\n",
       "      <td>902</td>\n",
       "      <td>0</td>\n",
       "    </tr>\n",
       "    <tr>\n",
       "      <th>11</th>\n",
       "      <td>903</td>\n",
       "      <td>0</td>\n",
       "    </tr>\n",
       "    <tr>\n",
       "      <th>12</th>\n",
       "      <td>904</td>\n",
       "      <td>1</td>\n",
       "    </tr>\n",
       "    <tr>\n",
       "      <th>13</th>\n",
       "      <td>905</td>\n",
       "      <td>0</td>\n",
       "    </tr>\n",
       "    <tr>\n",
       "      <th>14</th>\n",
       "      <td>906</td>\n",
       "      <td>1</td>\n",
       "    </tr>\n",
       "    <tr>\n",
       "      <th>15</th>\n",
       "      <td>907</td>\n",
       "      <td>1</td>\n",
       "    </tr>\n",
       "    <tr>\n",
       "      <th>16</th>\n",
       "      <td>908</td>\n",
       "      <td>0</td>\n",
       "    </tr>\n",
       "    <tr>\n",
       "      <th>17</th>\n",
       "      <td>909</td>\n",
       "      <td>0</td>\n",
       "    </tr>\n",
       "    <tr>\n",
       "      <th>18</th>\n",
       "      <td>910</td>\n",
       "      <td>1</td>\n",
       "    </tr>\n",
       "    <tr>\n",
       "      <th>19</th>\n",
       "      <td>911</td>\n",
       "      <td>0</td>\n",
       "    </tr>\n",
       "  </tbody>\n",
       "</table>\n",
       "</div>"
      ],
      "text/plain": [
       "    PassengerId  Survived\n",
       "0           892         0\n",
       "1           893         0\n",
       "2           894         0\n",
       "3           895         0\n",
       "4           896         1\n",
       "5           897         0\n",
       "6           898         1\n",
       "7           899         0\n",
       "8           900         1\n",
       "9           901         0\n",
       "10          902         0\n",
       "11          903         0\n",
       "12          904         1\n",
       "13          905         0\n",
       "14          906         1\n",
       "15          907         1\n",
       "16          908         0\n",
       "17          909         0\n",
       "18          910         1\n",
       "19          911         0"
      ]
     },
     "execution_count": 23,
     "metadata": {},
     "output_type": "execute_result"
    }
   ],
   "source": [
    "sub.head(20)"
   ]
  }
 ],
 "metadata": {
  "kernelspec": {
   "display_name": "Python 3",
   "language": "python",
   "name": "python3"
  },
  "language_info": {
   "codemirror_mode": {
    "name": "ipython",
    "version": 3
   },
   "file_extension": ".py",
   "mimetype": "text/x-python",
   "name": "python",
   "nbconvert_exporter": "python",
   "pygments_lexer": "ipython3",
   "version": "3.7.6"
  },
  "papermill": {
   "duration": 140.520932,
   "end_time": "2020-11-08T18:51:45.573603",
   "environment_variables": {},
   "exception": null,
   "input_path": "__notebook__.ipynb",
   "output_path": "__notebook__.ipynb",
   "parameters": {},
   "start_time": "2020-11-08T18:49:25.052671",
   "version": "2.1.0"
  }
 },
 "nbformat": 4,
 "nbformat_minor": 4
}
